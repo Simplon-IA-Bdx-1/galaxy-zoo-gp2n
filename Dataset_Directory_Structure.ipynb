{
 "cells": [
  {
   "cell_type": "code",
   "execution_count": null,
   "metadata": {},
   "outputs": [],
   "source": [
    "import os, sys\n",
    "import cv2\n",
    "import pandas as pd\n",
    "from pandas import read_csv\n",
    "from shutil import copy2"
   ]
  },
  {
   "cell_type": "code",
   "execution_count": null,
   "metadata": {},
   "outputs": [],
   "source": [
    "img_source_path = './images_training_rev1/'\n",
    "csv_train_path = './data/training_solutions_rev1.csv'\n",
    "\n",
    "df = read_csv(csv_train_path, index_col=0)[['Class1.1', 'Class1.2', 'Class1.3']]\n",
    "df_max = df.idxmax(axis=1)\n",
    "df_classe_1 = df.loc[df_max=='Class1.1']\n",
    "df_classe_2 = df.loc[df_max=='Class1.2']\n",
    "df_classe_3 = df.loc[df_max=='Class1.3']\n",
    "\n",
    "print(\"Classe 1 :\")\n",
    "df_classe_1_train = df_classe_1.sample(frac=0.7, replace=True, random_state=42)\n",
    "df_classe_1_val = df_classe_1.sample(frac=0.3, replace=True, random_state=42)\n",
    "print(df_classe_1.shape)\n",
    "print(df_classe_1_train.shape)\n",
    "print(df_classe_1_val.shape)\n",
    "print('')\n",
    "\n",
    "print(\"Classe 2 :\")\n",
    "df_classe_2_train = df_classe_2.sample(frac=0.7, replace=True, random_state=42)\n",
    "df_classe_2_val = df_classe_2.sample(frac=0.3, replace=True, random_state=42)\n",
    "print(df_classe_2.shape)\n",
    "print(df_classe_2_train.shape)\n",
    "print(df_classe_2_val.shape)\n",
    "print('')\n",
    "\n",
    "print(\"Classe 3 :\")\n",
    "classe_3_nb_data_train = int(round(df_classe_3.shape[0]/3*2))\n",
    "df_classe_3_train = df_classe_3.iloc[:classe_3_nb_data_train, :]\n",
    "df_classe_3_val = df_classe_3.iloc[classe_3_nb_data_train:, :]\n",
    "print(df_classe_3.shape)\n",
    "print(df_classe_3_train.shape)\n",
    "print(df_classe_3_val.shape)\n",
    "\n",
    "xtrain_galaxyzoo = pd.DataFrame(columns=['path'])\n",
    "\n",
    "for index, row in df_classe_1_train.iterrows():\n",
    "    copy2('' + img_source_path + str(index) + '.jpg', './data/train/Classe_1/')\n",
    "    xtrain_galaxyzoo.loc[index, 'path'] = './data/train/Classe_1/' + str(index) + '.jpg'\n",
    "for index, row in df_classe_1_val.iterrows():\n",
    "    copy2('' + img_source_path + str(index) + '.jpg', './data/val/')\n",
    "    xtrain_galaxyzoo.loc[index, 'path'] = './data/val/' + str(index) + '.jpg'\n",
    "    \n",
    "for index, row in df_classe_2_train.iterrows():\n",
    "    copy2('' + img_source_path + str(index) + '.jpg', './data/train/Classe_2/')\n",
    "    xtrain_galaxyzoo.loc[index, 'path'] = './data/train/Classe_2/' + str(index) + '.jpg'\n",
    "for index, row in df_classe_2_val.iterrows():\n",
    "    copy2('' + img_source_path + str(index) + '.jpg', './data/val/')\n",
    "    xtrain_galaxyzoo.loc[index, 'path'] = './data/val/' + str(index) + '.jpg'\n",
    "    \n",
    "for index, row in df_classe_3_train.iterrows():\n",
    "    copy2('' + img_source_path + str(index) + '.jpg', './data/train/Classe_3/')\n",
    "    xtrain_galaxyzoo.loc[index, 'path'] = './data/train/Classe_3/' + str(index) + '.jpg'\n",
    "for index, row in df_classe_3_val.iterrows():\n",
    "    copy2('' + img_source_path + str(index) + '.jpg', './data/val/')\n",
    "    xtrain_galaxyzoo.loc[index, 'path'] = './data/val/' + str(index) + '.jpg'"
   ]
  },
  {
   "cell_type": "code",
   "execution_count": null,
   "metadata": {},
   "outputs": [],
   "source": [
    "xtrain_galaxyzoo"
   ]
  }
 ],
 "metadata": {
  "kernelspec": {
   "display_name": "Python 3",
   "language": "python",
   "name": "python3"
  },
  "language_info": {
   "codemirror_mode": {
    "name": "ipython",
    "version": 3
   },
   "file_extension": ".py",
   "mimetype": "text/x-python",
   "name": "python",
   "nbconvert_exporter": "python",
   "pygments_lexer": "ipython3",
   "version": "3.7.1"
  },
  "toc": {
   "base_numbering": 1,
   "nav_menu": {},
   "number_sections": true,
   "sideBar": true,
   "skip_h1_title": false,
   "title_cell": "Table of Contents",
   "title_sidebar": "Contents",
   "toc_cell": false,
   "toc_position": {},
   "toc_section_display": true,
   "toc_window_display": false
  }
 },
 "nbformat": 4,
 "nbformat_minor": 2
}
